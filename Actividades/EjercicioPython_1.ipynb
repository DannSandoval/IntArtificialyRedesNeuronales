{
  "nbformat": 4,
  "nbformat_minor": 0,
  "metadata": {
    "colab": {
      "provenance": []
    },
    "kernelspec": {
      "name": "python3",
      "display_name": "Python 3"
    },
    "language_info": {
      "name": "python"
    },
    "gpuClass": "standard"
  },
  "cells": [
    {
      "cell_type": "markdown",
      "source": [
        "# **Ejercicio Python 1** ⚡\n",
        "\n",
        "---\n",
        "\n",
        "**Nombre**:  Daniela Sandoval Castillo\n",
        "\n",
        "**Matrícula**: 1970534\n",
        "\n",
        "**Hora** **clase**: N1\n",
        "\n"
      ],
      "metadata": {
        "id": "nAbKAPIiBZyL"
      }
    },
    {
      "cell_type": "code",
      "execution_count": null,
      "metadata": {
        "colab": {
          "base_uri": "https://localhost:8080/"
        },
        "id": "0cplhmhEAe7a",
        "outputId": "aa1df2a1-616a-47b5-fa21-577f68f52947"
      },
      "outputs": [
        {
          "output_type": "stream",
          "name": "stdout",
          "text": [
            "¿Cuál es tu nombre? Juan\n",
            "Hola, buenos días\n"
          ]
        }
      ],
      "source": [
        "# Ejercicio 1: Desarrolla un algoritmo que le pida al usuario por su nombre y que \n",
        "# lo salude con su nombre, excepto si se llama “Ana”, “Juan”, y “Pedro”.\n",
        "\n",
        "nombre = input(\"¿Cuál es tu nombre? \")\n",
        "\n",
        "if nombre in [\"Ana\", \"Juan\", \"Pedro\"]:\n",
        "    print(\"Hola, buenos días\")\n",
        "else:\n",
        "    print(\"Hola\" ,nombre,\"buenos días\")"
      ]
    },
    {
      "cell_type": "code",
      "source": [
        "# Ejercicio 2: Desarrolla un algoritmo que por medio de una función, le pida al \n",
        "# usuario una lista de N elementos y como resultado invierta el sentido de la lista. \n",
        "\n",
        "n = int(input(\"Ingrese el número de elementos en la lista: \"))\n",
        "\n",
        "lista = []\n",
        "\n",
        "for i in range(n):\n",
        "  elemento = input(\"Ingrese un elemento: \")\n",
        "  lista.append(elemento)\n",
        "\n",
        "lista_invertida = lista[::-1]\n",
        "\n",
        "print(\"La lista invertida es: \", lista_invertida)"
      ],
      "metadata": {
        "id": "bywdiJinWM8A",
        "colab": {
          "base_uri": "https://localhost:8080/"
        },
        "outputId": "6ea5eb7d-c3c3-489b-8744-19110bdded6f"
      },
      "execution_count": 6,
      "outputs": [
        {
          "output_type": "stream",
          "name": "stdout",
          "text": [
            "Ingrese el número de elementos en la lista: 4\n",
            "Ingrese un elemento: 1\n",
            "Ingrese un elemento: 2\n",
            "Ingrese un elemento: 3\n",
            "Ingrese un elemento: 4\n",
            "La lista invertida es:  ['4', '3', '2', '1']\n"
          ]
        }
      ]
    },
    {
      "cell_type": "code",
      "source": [
        "# Ejercicio 3: Desarrolla un algoritmo que le pregunte al usuario cuántos números \n",
        "# de la serie de Fibonnaci quiere generar y que al final los imprima. \n",
        "\n",
        "n = int(input(\"Ingrese el número de términos de la serie de Fibonacci que quiere generar: \"))\n",
        "\n",
        "fibonacci = []\n",
        "\n",
        "a, b = 0, 1\n",
        "for i in range(n):\n",
        "  fibonacci.append(a)\n",
        "  a, b = b, a + b\n",
        "\n",
        "print(\"Los primeros\", n, \"términos de la serie de Fibonacci son:\", fibonacci)"
      ],
      "metadata": {
        "id": "JI_cQ5aGZG-t",
        "colab": {
          "base_uri": "https://localhost:8080/"
        },
        "outputId": "486e00d1-6940-4ae6-edd6-b38939e6f949"
      },
      "execution_count": 7,
      "outputs": [
        {
          "output_type": "stream",
          "name": "stdout",
          "text": [
            "Ingrese el número de términos de la serie de Fibonacci que quiere generar: 6\n",
            "Los primeros 6 términos de la serie de Fibonacci son: [0, 1, 1, 2, 3, 5]\n"
          ]
        }
      ]
    },
    {
      "cell_type": "code",
      "source": [],
      "metadata": {
        "id": "u2NAOx2BgL8G"
      },
      "execution_count": null,
      "outputs": []
    }
  ]
}